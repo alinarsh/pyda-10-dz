{
 "cells": [
  {
   "cell_type": "markdown",
   "metadata": {},
   "source": [
    "**Задание 1**. Даны 2 строки: *long_phrase* и *short_phrase*. \n",
    "Напишите код, который проверяет действительно ли длинная фраза *long_phrase* длиннее короткой *short_phrase*. И выводит *True* или *False* в зависимости от результата сравнения."
   ]
  },
  {
   "cell_type": "code",
   "execution_count": null,
   "metadata": {},
   "outputs": [],
   "source": [
    "long_phrase = 'Насколько проще было бы писать программы, если бы не заказчики'\n",
    "short_phrase = '640Кб должно хватить для любых задач. Билл Гейтс (по легенде)'\n",
    "print(len(long_phrase) > len(short_phrase))"
   ]
  },
  {
   "cell_type": "markdown",
   "metadata": {},
   "source": [
    "**Задание 2**. Дано значение объема файла в байтах (*в мегабайте 2^20 байт*). Напишите перевод этого значения в мегабайты в формате: \"*Объем файла равен 213.68Mb*\"."
   ]
  },
  {
   "cell_type": "code",
   "execution_count": null,
   "metadata": {},
   "outputs": [],
   "source": [
    "user_input = int(input('Введите значение'))\n",
    "answer = round((user_input / 2**20),2)\n",
    "print('Объем файла равен', answer, 'Mb')"
   ]
  },
  {
   "cell_type": "markdown",
   "metadata": {},
   "source": [
    "**Задание 3**. Разработать приложение для определения знака зодиака по дате рождения. Пример:\n",
    "\n",
    "Введите месяц: март\n",
    "\n",
    "Введите число: 6\n",
    "\n",
    "Вывод:\n",
    "Рыбы"
   ]
  },
  {
   "cell_type": "code",
   "execution_count": null,
   "metadata": {},
   "outputs": [],
   "source": [
    "month = input('Введите месяц кириллицей:')\n",
    "number = int(input('Введите число:'))\n",
    "\n",
    "if (month == ('январь') and number <= 20) or (month == ('Январь') and number <= 20):\n",
    "    print('Козерог')\n",
    "elif (month == ('январь') and 21 <= number <= 31) or (month == ('Январь') and 21 <= number <= 31):\n",
    "    print('Водолей')\n",
    "elif (month == ('январь') and number > 31) or (month == ('Январь') and number > 31):\n",
    "    print('Ошибка в дате')\n",
    "    \n",
    "if (month == ('февраль') and number <= 19) or (month == ('Февраль') and number <= 19):\n",
    "    print('Водолей')\n",
    "elif (month == ('февраль') and 20 <= number <= 29) or (month == ('Февраль') and 20 <= number <= 29):\n",
    "    print('Рыбы')\n",
    "elif (month == ('февраль') and number > 29) or (month == ('Февраль') and number > 29):\n",
    "    print('Ошибка в дате')\n",
    "    \n",
    "if (month == ('март') and number <= 20) or (month == ('Март') and number <= 20):\n",
    "    print('Рыбы')\n",
    "elif (month == ('март') and 21 <= number <= 31) or (month == ('Март') and 21 <= number <= 31):\n",
    "    print('Овен')\n",
    "elif (month == ('март') and number > 31) or (month == ('Mарт') and number > 31):\n",
    "    print('Ошибка в дате')\n",
    "    \n",
    "if (month == ('апрель') and number <= 20) or (month == ('Апрель') and number <= 20):\n",
    "    print('Овен')\n",
    "elif (month == ('апрель') and 21 <= number <= 30) or (month == ('Апрель') and 21 <= number <= 30):\n",
    "    print('Телец')\n",
    "elif (month == ('апрель') and number > 30) or (month == ('Апрель') and number > 30):\n",
    "    print('Ошибка в дате')\n",
    "    \n",
    "if (month == ('май') and number <= 21) or (month == ('Май') and number <= 21):\n",
    "    print('Телец')\n",
    "elif (month == ('май') and 22 <= number <= 31) or (month == ('Май') and 22 <= number <= 31):\n",
    "    print('Близнецы')\n",
    "elif (month == ('май') and number > 31) or (month == ('Май') and number > 31):\n",
    "    print('Ошибка в дате')\n",
    "\n",
    "if (month == ('июнь') and number <= 21) or (month == ('Июнь') and number <= 21):\n",
    "    print('Близнецы')\n",
    "elif (month == ('июнь') and 22 <= number <= 30) or (month == ('Июнь') and 22 <= number <= 30):\n",
    "    print('Рак')\n",
    "elif (month == ('июнь') and number > 30) or (month == ('Июнь') and number > 30):\n",
    "    print('Ошибка в дате')\n",
    "\n",
    "if (month == ('июль') and number <= 22) or (month == ('Июль') and number <= 22):\n",
    "    print('Рак')\n",
    "elif (month == ('июль') and 23 <= number <= 31) or (month == ('Июль') and 23 <= number <= 31):\n",
    "    print('Лев')\n",
    "elif (month == ('июль') and number > 31) or (month == ('Июль') and number > 31):\n",
    "    print('Ошибка в дате')\n",
    "\n",
    "if (month == ('август') and number <= 23) or (month == ('Август') and number <= 23):\n",
    "    print('Лев')\n",
    "elif (month == ('август') and 24 <= number <= 31) or (month == ('Август') and 24 <= number <= 31):\n",
    "    print('Дева')\n",
    "elif (month == ('август') and number > 31) or (month == ('Август') and number > 31):\n",
    "    print('Ошибка в дате')\n",
    "\n",
    "if (month == ('сентябрь') and number <= 22) or (month == ('Сентябрь') and number <= 22):\n",
    "    print('Дева')\n",
    "elif (month == ('сентябрь') and 23 <= number <= 30) or (month == ('Сентябрь') and 23 <= number <= 30):\n",
    "    print('Весы')\n",
    "elif (month == ('сентябрь') and number > 30) or (month == ('Сентябрь') and number > 30):\n",
    "    print('Ошибка в дате')\n",
    "    \n",
    "if (month == ('октябрь') and number <= 22) or (month == ('Октябрь') and number <= 22):\n",
    "    print('Весы')\n",
    "elif (month == ('октябрь') and 23 <= number <= 31) or (month == ('Октябрь') and 23 <= number <= 31):\n",
    "    print('Скорпион')\n",
    "elif (month == ('октябрь') and number > 31) or (month == ('Октябрь') and number > 31):\n",
    "    print('Ошибка в дате')\n",
    "    \n",
    "if (month == ('ноябрь') and number <= 22) or (month == ('Ноябрь') and number <= 22):\n",
    "    print('Скорпион')\n",
    "elif (month == ('ноябрь') and 23 <= number <= 30) or (month == ('Ноябрь') and 23 <= number <= 30):\n",
    "    print('Стрелец')\n",
    "elif (month == ('ноябрь') and number > 30) or (month == ('Ноябрь') and number > 30):\n",
    "    print('Ошибка в дате')\n",
    "    \n",
    "if (month == ('декабрь') and number <= 22) or (month == ('Декабрь') and number <= 22):\n",
    "    print('Стрелец')\n",
    "elif (month == ('декабрь') and 23 <= number <= 31) or (month == ('Декабрь') and 23 <= number <= 31):\n",
    "    print('Козерог')\n",
    "elif (month == ('декабрь') and number > 31) or (month == ('Декабрь') and number > 31):\n",
    "    print('Ошибка в дате')\n",
    "\n",
    "print('Попробуем еще?')"
   ]
  },
  {
   "cell_type": "markdown",
   "metadata": {},
   "source": [
    "**Задание 4**. Нужно разработать приложение для финансового планирования.\n",
    "Приложение учитывает сколько уходит на ипотеку, \"на жизнь\" и сколько нужно отложить на пенсию.\n",
    "Пользователь вводит:\n",
    "- заработанную плату в месяц.\n",
    "- сколько процентов от ЗП уходит на ипотеку.\n",
    "- сколько процентов от ЗП уходит \"на жизнь\".\n",
    "- сколько раз приходит премия в год.\n",
    "\n",
    "Остальная часть заработанной платы откладывается на пенсию.\n",
    "\n",
    "Также пользователю приходит премия в размере зарплаты, от которой половина уходит на отпуск, а вторая половина откладывается.\n",
    "\n",
    "Программа должна учитывать сколько премий было в год.\n",
    "\n",
    "Нужно вывести сколько денег тратит пользователь на ипотеку и сколько он накопит за год.\n",
    "\n",
    "Пример:\n",
    "\n",
    "Введите заработанную плату в месяц: 100000\n",
    "\n",
    "Введите сколько процентов уходит на ипотеку: 30\n",
    "\n",
    "Введите сколько процентов уходит на жизнь: 50\n",
    "\n",
    "Введите количество премий за год: 2\n",
    "\n",
    "Вывод:\n",
    "На ипотеку было потрачено: 360000 рублей\n",
    "Было накоплено: 340000 рублей"
   ]
  },
  {
   "cell_type": "code",
   "execution_count": null,
   "metadata": {},
   "outputs": [],
   "source": [
    "zp = int(input('Введите заработную плату в месяц: '))\n",
    "ipoteka_percent = int(input('Введите сколько процентов уходит на ипотеку: '))\n",
    "life_percent = int(input('Введите сколько процентов уходит на жизнь: '))\n",
    "premia_amount = int(input('Введите количество премий за год: ')) \n",
    "ipoteka = ipoteka_percent * zp / 100\n",
    "life = life_percent * zp / 100\n",
    "pensia_god = round((zp - ipoteka - life) * 12 + (zp * premia_amount * 0.5))\n",
    "ipoteka_god = round(ipoteka * 12)\n",
    "print('На ипотеку было потрачено:', ipoteka_god, 'рублей','.', 'Было накоплено:', pensia_god, 'рублей')"
   ]
  }
 ],
 "metadata": {
  "kernelspec": {
   "display_name": "Python 3",
   "language": "python",
   "name": "python3"
  },
  "language_info": {
   "codemirror_mode": {
    "name": "ipython",
    "version": 3
   },
   "file_extension": ".py",
   "mimetype": "text/x-python",
   "name": "python",
   "nbconvert_exporter": "python",
   "pygments_lexer": "ipython3",
   "version": "3.7.6"
  }
 },
 "nbformat": 4,
 "nbformat_minor": 2
}
