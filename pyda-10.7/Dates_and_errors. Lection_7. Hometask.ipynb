{
 "cells": [
  {
   "cell_type": "markdown",
   "metadata": {},
   "source": [
    "Задача 1"
   ]
  },
  {
   "cell_type": "code",
   "execution_count": null,
   "metadata": {},
   "outputs": [],
   "source": [
    "from datetime import datetime\n",
    "the_moscow_times = datetime.strptime('Wednesday, October 2, 2002', '%A, %B %d, %Y')\n",
    "the_guardian = datetime.strptime('Friday, 11.10.13', '%A, %d.%m.%y')\n",
    "daily_news = datetime.strptime('Thursday, 18 August 1977', '%A, %d %B %Y')\n",
    "print(the_moscow_times)\n",
    "print(the_guardian)\n",
    "print(daily_news)"
   ]
  },
  {
   "cell_type": "markdown",
   "metadata": {},
   "source": [
    "Задача 2"
   ]
  },
  {
   "cell_type": "code",
   "execution_count": null,
   "metadata": {},
   "outputs": [],
   "source": [
    "stream = ['2018-04-02', '2018-02-29', '2018-19-02']\n",
    "def check_date(stream):\n",
    "    for el in stream:\n",
    "        try:\n",
    "            el = datetime.strptime(el, '%Y-%m-%d')\n",
    "            print('Дата корректна')        \n",
    "        except:\n",
    "            print('Дата не корректна')\n",
    "check_date(stream)"
   ]
  },
  {
   "cell_type": "markdown",
   "metadata": {},
   "source": [
    "Задача 3"
   ]
  },
  {
   "cell_type": "code",
   "execution_count": 15,
   "metadata": {},
   "outputs": [
    {
     "name": "stdout",
     "output_type": "stream",
     "text": [
      "Введите начало периода в формате YYYY-MM-DD: 20202020\n",
      "Неправильно введена дата []\n"
     ]
    }
   ],
   "source": [
    "from datetime import datetime\n",
    "from datetime import timedelta\n",
    "dates_list = []\n",
    "\n",
    "def date_range():\n",
    "    try:\n",
    "        start_date = datetime.strptime(str(input('Введите начало периода в формате YYYY-MM-DD: ')), '%Y-%m-%d')\n",
    "        end_date = datetime.strptime(str(input('Введите конец периода в формате YYYY-MM-DD: ')), '%Y-%m-%d')\n",
    "        while start_date <= end_date:\n",
    "            dates_list.append(start_date.strftime('%Y-%m-%d'))\n",
    "            start_date += timedelta(days=1)\n",
    "        print(dates_list)\n",
    "    except:\n",
    "        print('Неправильно введена дата',dates_list)\n",
    "        \n",
    "date_range()"
   ]
  },
  {
   "cell_type": "markdown",
   "metadata": {},
   "source": [
    "Задача 4"
   ]
  },
  {
   "cell_type": "markdown",
   "metadata": {},
   "source": [
    "1) Элемент с запрашиваемым индексом не входит в список.\n",
    "2) Во втором запуске функция удаляет последний элемент(А101), но в return к нему же и возвращается (А101 - элемент с индексом -2 заданном списке)."
   ]
  }
 ],
 "metadata": {
  "kernelspec": {
   "display_name": "Python 3",
   "language": "python",
   "name": "python3"
  }
 },
 "nbformat": 4,
 "nbformat_minor": 4
}
