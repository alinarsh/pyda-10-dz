{
 "cells": [
  {
   "cell_type": "markdown",
   "metadata": {},
   "source": [
    "**Задание 1**\n",
    "Для датафрейма log из материалов занятия создайте столбец source_type по следующим правилам:\n",
    "- если источник traffic_source равен yandex или google, то в source_type ставится organic\n",
    "- для источников paid и email из России - ставим ad\n",
    "- для источников paid и email не из России - ставим other\n",
    "- все остальные варианты берем из traffic_source без изменений\n"
   ]
  },
  {
   "cell_type": "code",
   "execution_count": 2,
   "metadata": {},
   "outputs": [],
   "source": [
    "import pandas as pd"
   ]
  },
  {
   "cell_type": "code",
   "execution_count": 6,
   "metadata": {},
   "outputs": [],
   "source": [
    "log = pd.read_csv('visit_log.csv', sep=';')"
   ]
  },
  {
   "cell_type": "code",
   "execution_count": 41,
   "metadata": {},
   "outputs": [
    {
     "data": {
      "text/html": [
       "<div>\n",
       "<style scoped>\n",
       "    .dataframe tbody tr th:only-of-type {\n",
       "        vertical-align: middle;\n",
       "    }\n",
       "\n",
       "    .dataframe tbody tr th {\n",
       "        vertical-align: top;\n",
       "    }\n",
       "\n",
       "    .dataframe thead th {\n",
       "        text-align: right;\n",
       "    }\n",
       "</style>\n",
       "<table border=\"1\" class=\"dataframe\">\n",
       "  <thead>\n",
       "    <tr style=\"text-align: right;\">\n",
       "      <th></th>\n",
       "      <th>timestamp</th>\n",
       "      <th>visit_id</th>\n",
       "      <th>url</th>\n",
       "      <th>region</th>\n",
       "      <th>user_id</th>\n",
       "      <th>traffic_source</th>\n",
       "      <th>traffic_type</th>\n",
       "    </tr>\n",
       "  </thead>\n",
       "  <tbody>\n",
       "    <tr>\n",
       "      <th>0</th>\n",
       "      <td>1549980692</td>\n",
       "      <td>e3b0c44298</td>\n",
       "      <td>https://host.ru/3c19b4ef7371864fa3</td>\n",
       "      <td>Russia</td>\n",
       "      <td>b1613cc09f</td>\n",
       "      <td>yandex</td>\n",
       "      <td>organic</td>\n",
       "    </tr>\n",
       "    <tr>\n",
       "      <th>1</th>\n",
       "      <td>1549980704</td>\n",
       "      <td>6e340b9cff</td>\n",
       "      <td>https://host.ru/c8d9213a31839f9a3a</td>\n",
       "      <td>Russia</td>\n",
       "      <td>4c3ec14bee</td>\n",
       "      <td>direct</td>\n",
       "      <td>direct</td>\n",
       "    </tr>\n",
       "    <tr>\n",
       "      <th>2</th>\n",
       "      <td>1549980715</td>\n",
       "      <td>96a296d224</td>\n",
       "      <td>https://host.ru/b8b58337d272ee7b15</td>\n",
       "      <td>Russia</td>\n",
       "      <td>a8c40697fb</td>\n",
       "      <td>yandex</td>\n",
       "      <td>organic</td>\n",
       "    </tr>\n",
       "    <tr>\n",
       "      <th>3</th>\n",
       "      <td>1549980725</td>\n",
       "      <td>709e80c884</td>\n",
       "      <td>https://host.ru/b8b58337d272ee7b15</td>\n",
       "      <td>Russia</td>\n",
       "      <td>521ac1d6a0</td>\n",
       "      <td>yandex</td>\n",
       "      <td>organic</td>\n",
       "    </tr>\n",
       "    <tr>\n",
       "      <th>4</th>\n",
       "      <td>1549980736</td>\n",
       "      <td>df3f619804</td>\n",
       "      <td>https://host.ru/b8b58337d272ee7b15</td>\n",
       "      <td>Russia</td>\n",
       "      <td>d7323c571c</td>\n",
       "      <td>yandex</td>\n",
       "      <td>organic</td>\n",
       "    </tr>\n",
       "  </tbody>\n",
       "</table>\n",
       "</div>"
      ],
      "text/plain": [
       "    timestamp    visit_id                                 url  region  \\\n",
       "0  1549980692  e3b0c44298  https://host.ru/3c19b4ef7371864fa3  Russia   \n",
       "1  1549980704  6e340b9cff  https://host.ru/c8d9213a31839f9a3a  Russia   \n",
       "2  1549980715  96a296d224  https://host.ru/b8b58337d272ee7b15  Russia   \n",
       "3  1549980725  709e80c884  https://host.ru/b8b58337d272ee7b15  Russia   \n",
       "4  1549980736  df3f619804  https://host.ru/b8b58337d272ee7b15  Russia   \n",
       "\n",
       "      user_id traffic_source traffic_type  \n",
       "0  b1613cc09f         yandex      organic  \n",
       "1  4c3ec14bee         direct       direct  \n",
       "2  a8c40697fb         yandex      organic  \n",
       "3  521ac1d6a0         yandex      organic  \n",
       "4  d7323c571c         yandex      organic  "
      ]
     },
     "execution_count": 41,
     "metadata": {},
     "output_type": "execute_result"
    }
   ],
   "source": [
    "log.loc[log.traffic_source.isin(['yandex', 'google']), 'traffic_type'] = 'organic' \n",
    "log.loc[log.traffic_source.isin(['paid', 'email']) & (log.region == 'Russia'), 'traffic_type'] = 'ad'\n",
    "log.loc[log.traffic_source.isin(['paid', 'email']) & (log.region != 'Russia'), 'traffic_type'] = 'other'\n",
    "log.loc[~log.traffic_source.isin(['yandex','google','paid', 'email']), 'traffic_type'] = log.traffic_source\n",
    "log.head()"
   ]
  },
  {
   "cell_type": "markdown",
   "metadata": {},
   "source": [
    "**Задание 2**\n",
    "В файле URLs.txt содержатся url страниц новостного сайта. Вам необходимо отфильтровать его по адресам страниц с текстами новостей. Известно, что шаблон страницы новостей имеет внутри url следующую конструкцию: /, затем 8 цифр, затем дефис. Выполните следующие действия:\n",
    "- Прочитайте содержимое файла с датафрейм\n",
    "- Отфильтруйте страницы с текстом новостей, используя метод str.contains и регулярное выражение в соответствии с заданным шаблоном\n"
   ]
  },
  {
   "cell_type": "code",
   "execution_count": 4,
   "metadata": {},
   "outputs": [],
   "source": [
    "import re\n",
    "urls = pd.read_csv('URLs.txt', sep =';')"
   ]
  },
  {
   "cell_type": "code",
   "execution_count": 5,
   "metadata": {},
   "outputs": [
    {
     "data": {
      "text/html": [
       "<div>\n",
       "<style scoped>\n",
       "    .dataframe tbody tr th:only-of-type {\n",
       "        vertical-align: middle;\n",
       "    }\n",
       "\n",
       "    .dataframe tbody tr th {\n",
       "        vertical-align: top;\n",
       "    }\n",
       "\n",
       "    .dataframe thead th {\n",
       "        text-align: right;\n",
       "    }\n",
       "</style>\n",
       "<table border=\"1\" class=\"dataframe\">\n",
       "  <thead>\n",
       "    <tr style=\"text-align: right;\">\n",
       "      <th></th>\n",
       "      <th>url</th>\n",
       "      <th>news</th>\n",
       "    </tr>\n",
       "  </thead>\n",
       "  <tbody>\n",
       "    <tr>\n",
       "      <th>0</th>\n",
       "      <td>/world/</td>\n",
       "      <td>NaN</td>\n",
       "    </tr>\n",
       "    <tr>\n",
       "      <th>1</th>\n",
       "      <td>/latest/</td>\n",
       "      <td>NaN</td>\n",
       "    </tr>\n",
       "    <tr>\n",
       "      <th>2</th>\n",
       "      <td>/?updated=top</td>\n",
       "      <td>NaN</td>\n",
       "    </tr>\n",
       "    <tr>\n",
       "      <th>3</th>\n",
       "      <td>/politics/36188461-s-marta-zhizn-rossiyan-susc...</td>\n",
       "      <td>/politics/36188461-s-marta-zhizn-rossiyan-susc...</td>\n",
       "    </tr>\n",
       "    <tr>\n",
       "      <th>4</th>\n",
       "      <td>/world/36007585-tramp-pridumal-kak-reshit-ukra...</td>\n",
       "      <td>/world/36007585-tramp-pridumal-kak-reshit-ukra...</td>\n",
       "    </tr>\n",
       "  </tbody>\n",
       "</table>\n",
       "</div>"
      ],
      "text/plain": [
       "                                                 url  \\\n",
       "0                                            /world/   \n",
       "1                                           /latest/   \n",
       "2                                      /?updated=top   \n",
       "3  /politics/36188461-s-marta-zhizn-rossiyan-susc...   \n",
       "4  /world/36007585-tramp-pridumal-kak-reshit-ukra...   \n",
       "\n",
       "                                                news  \n",
       "0                                                NaN  \n",
       "1                                                NaN  \n",
       "2                                                NaN  \n",
       "3  /politics/36188461-s-marta-zhizn-rossiyan-susc...  \n",
       "4  /world/36007585-tramp-pridumal-kak-reshit-ukra...  "
      ]
     },
     "execution_count": 5,
     "metadata": {},
     "output_type": "execute_result"
    }
   ],
   "source": [
    "urls['news'] = urls.loc[urls.url.str.contains(r'\\/\\d{8}\\-')]    #r'\\S[^\\s]\\d{8}\\S[^\\s]'\n",
    "urls.head()"
   ]
  },
  {
   "cell_type": "code",
   "execution_count": 33,
   "metadata": {},
   "outputs": [
    {
     "data": {
      "text/plain": [
       "[' /politics/36188461-s-marta-zhizn-rossiyan-susc...',\n",
       " ' /world/36007585-tramp-pridumal-kak-reshit-ukra...',\n",
       " ' /science/36157853-nasa-sobiraet-ekstrennuyu-pr...',\n",
       " ' /video/36001498-poyavilis-pervye-podrobnosti-g...',\n",
       " ' /world/36007585-tramp-pridumal-kak-reshit-ukra...',\n",
       " ' /middleeast/36131117-divizion-s-400-ne-zametil...',\n",
       " ' /economics/36065674-rossiyane-vozmutilis-minim...',\n",
       " ' /politics/36118047-otets-24-detey-potreboval-i...',\n",
       " ' /travel/36194479-v-sheremetevo-passazhiry-ustr...',\n",
       " ' /politics/35638742-nesolidno-mariya-zaharova-s...',\n",
       " ' /video/36012692-tramp-otkrestilsya-ot-rossii-i...',\n",
       " '    /starlife/36174817-guzeeva-rasstalas-s-muzhem/',\n",
       " ' /health/36149308-predlozheno-prostoe-sredstvo-...',\n",
       " ' /science/36139723-set-vzbudorazhila-novost-o-s...',\n",
       " ' /cis/36229699-poroshenko-obyavil-vseukrainskiy...',\n",
       " ' /incidents/36225203-tonnel-obrushilsya-v-novoy...',\n",
       " ' /politics/36118047-otets-24-detey-potreboval-i...',\n",
       " ' /world/36075956-na-granitse-s-krymom-zahvachen...',\n",
       " ' /politics/36115220-mid-vystupil-s-preduprezhde...',\n",
       " ' /world/36018565-sbu-opublikovala-zapis-peregov...',\n",
       " ' /politics/36150505-stala-izvestna-prichina-sme...',\n",
       " ' /middleeast/36131117-divizion-s-400-ne-zametil...',\n",
       " ' /sport/36055585-fiyon-maye-my-prouchili-russki...',\n",
       " ' /crazy-world/36193471-seks-bezhentsy-vernulis-...',\n",
       " ' /crazy-world/36087352-moskvicha-shokirovala-na...',\n",
       " ' /incidents/36096689-rossiyskih-turistov-dvazhd...',\n",
       " ' /video/36225009-otschet-poshel-zaharchenko-naz...',\n",
       " ' /health/36139780-opredelen-reshayuschiy-faktor...',\n",
       " ' /business/36187789-v-rf-hotyat-povysit-nalogi-...',\n",
       " ' /video/35930625-dozvonivshiysya-v-efir-ukrains...',\n",
       " ' /head/36214416-u-zheny-karachentsova-nashli-al...',\n",
       " ' /head/36038043-foto-otdyhayuschiy-obama-vzbudo...',\n",
       " ' /cis/36189830-kiev-arestoval-imuschestvo-v-krymu/',\n",
       " ' /video/36006794-pogibshaya-melamed-ostavila-pr...',\n",
       " ' /video/36082961-nikol-kidman-prishla-na-britan...',\n",
       " ' /incidents/36173928-v-ekaterinburge-migranty-u...',\n",
       " '            /video/36151719-petrosyanu-grozit-sud/',\n",
       " ' /business/36102731-rubl-rezko-otreagiroval-na-...',\n",
       " '  /articles/36193368-donbass-reshil-udarit-pervym/',\n",
       " ' /science/36178249-rasshifrovano-predskazanie-n...',\n",
       " ' /world/36206871-na-ukraine-nachalsya-shturm-uc...',\n",
       " ' /science/36233829-sozdano-lekarstvo-ot-vseh-vi...',\n",
       " ' /politics/36093799-sbezhavshuyu-iz-rossii-maks...',\n",
       " ' /cis/36144647-v-tsentr-kieva-styagivayut-voenn...',\n",
       " ' /starlife/36140271-skandalnoe-foto-britni-spir...',\n",
       " ' /finances/36043911-rublyu-predrekli-dvoynoy-udar/',\n",
       " ' /starlife/36135554-doch-valerii-snyalas-v-otkr...',\n",
       " ' /starlife/36005664-dzhennifer-lopes-vzorvala-i...',\n",
       " '   /starlife/36240935-dzhigurde-postavili-diagnoz/',\n",
       " ' /politics/36233197-times-britaniya-peregnula-p...',\n",
       " '      /articles/36213214-vozmozhna-bolshaya-voyna/',\n",
       " ' /articles/36142564-ukrainu-ureguliruyut-po-tih...',\n",
       " ' /starlife/36044627-u-malyshevoy-sdali-nervy-na...',\n",
       " ' /starlife/36053306-dzhigarhanyan-dal-shokiruyu...',\n",
       " ' /business/36184872-udar-po-schetchiku-rossiyan...',\n",
       " ' /world/36195262-deputat-savchenko-predlozhila-...',\n",
       " ' /starlife/36014715-evelina-bledans-vyshla-v-sv...',\n",
       " ' /europe/36046038-v-parizhskom-metro-progremel-...',\n",
       " ' /middleeast/36024757-v-sekretnoy-tyurme-v-siri...',\n",
       " ' /video/36202662-nakazanie-dlya-lukashenko-ross...',\n",
       " ' /articles/36170146-rossiya-reshila-postavlyat-...',\n",
       " ' /business/36016781-sberbank-cib-nazval-sroki-d...',\n",
       " ' /politics/36229424-rossiya-vyrazila-protest-bo...',\n",
       " ' /kinomusic/36016432-igorya-krutogo-prooperirov...',\n",
       " ' /starlife/36008814-minus-odin-nyusha-otkazalas...',\n",
       " ' /lifestyle/36185060-uchenye-rasskazali-kak-v-b...',\n",
       " ' /articles/36082911-pribaltika-i-ukraina-v-pani...',\n",
       " ' /politics/36203629-v-gosdume-obyasnili-perenos...',\n",
       " ' /economics/36097033-a-zhit-za-schet-rossii-vy-...',\n",
       " ' /incidents/36003455-natalya-melamed-pered-gibe...',\n",
       " ' /starlife/36131560-maksakova-shokirovala-otkro...',\n",
       " ' /sport/36235520-v-britanii-razgorelsya-krupney...',\n",
       " ' /articles/36093326-shturmovat-donetsk-i-lugans...',\n",
       " ' /video/36214784-panayotov-sdelal-shokiruyusche...',\n",
       " ' /world/36215106-lider-ig-obratilsya-k-boevikam...',\n",
       " ' /articles/36066499-iz-za-zvaniy-anny-netrebko-...',\n",
       " ' /starlife/36096316-u-lyudmily-maksakovoy-sdali...',\n",
       " ' /economics/36097033-a-zhit-za-schet-rossii-vy-...',\n",
       " ' /starlife/36096182-vdova-valeriya-zolotuhina-v...',\n",
       " ' /cis/35984145-kreml-prokommentiroval-soobschen...',\n",
       " ' /video/36071019-olimpiyskie-obekty-rio-prevrat...',\n",
       " ' /science/36151301-nazvano-posledstvie-zloupotr...',\n",
       " ' /incidents/36027330-vospitatelnitsu-zatravili-...',\n",
       " ' /world/36103095-dominikanskih-zhurnalistov-ubi...']"
      ]
     },
     "execution_count": 33,
     "metadata": {},
     "output_type": "execute_result"
    }
   ],
   "source": [
    "urls1 = urls.dropna()\n",
    "news_list = urls1.news.to_string(index=False).split('\\n')\n",
    "news_list"
   ]
  },
  {
   "cell_type": "markdown",
   "metadata": {},
   "source": [
    "**Задание 3**\n",
    "В датафрейме data создайте столбец lemmas, в котором вычислите леммы поисковых запросов из столбца keyword. Леммы должны иметь строковый тип."
   ]
  },
  {
   "cell_type": "code",
   "execution_count": 7,
   "metadata": {},
   "outputs": [],
   "source": [
    "data = pd.DataFrame({\n",
    "    'keyword': ['курс гривны к рублю', 'доллары в рубли', '100 долларов в рублях', 'курс рубля'],\n",
    "    'shows': [125076, 114173, 97534, 53546],\n",
    "})"
   ]
  },
  {
   "cell_type": "code",
   "execution_count": 8,
   "metadata": {},
   "outputs": [
    {
     "name": "stdout",
     "output_type": "stream",
     "text": [
      "Requirement already satisfied: pymystem3 in c:\\programdata\\anaconda3\\lib\\site-packages (0.2.0)\n",
      "Requirement already satisfied: requests in c:\\programdata\\anaconda3\\lib\\site-packages (from pymystem3) (2.22.0)\n",
      "Requirement already satisfied: urllib3!=1.25.0,!=1.25.1,<1.26,>=1.21.1 in c:\\programdata\\anaconda3\\lib\\site-packages (from requests->pymystem3) (1.25.8)\n",
      "Requirement already satisfied: chardet<3.1.0,>=3.0.2 in c:\\programdata\\anaconda3\\lib\\site-packages (from requests->pymystem3) (3.0.4)\n",
      "Requirement already satisfied: certifi>=2017.4.17 in c:\\programdata\\anaconda3\\lib\\site-packages (from requests->pymystem3) (2019.11.28)\n",
      "Requirement already satisfied: idna<2.9,>=2.5 in c:\\programdata\\anaconda3\\lib\\site-packages (from requests->pymystem3) (2.8)\n",
      "Note: you may need to restart the kernel to use updated packages.\n"
     ]
    }
   ],
   "source": [
    "pip install pymystem3"
   ]
  },
  {
   "cell_type": "code",
   "execution_count": 9,
   "metadata": {},
   "outputs": [],
   "source": [
    "from pymystem3 import Mystem"
   ]
  },
  {
   "cell_type": "code",
   "execution_count": 10,
   "metadata": {},
   "outputs": [],
   "source": [
    "m = Mystem()"
   ]
  },
  {
   "cell_type": "code",
   "execution_count": 13,
   "metadata": {},
   "outputs": [],
   "source": [
    "def write_lemmas(key):\n",
    "    lemmas = m.lemmatize(key)\n",
    "    return ' '.join(lemmas)"
   ]
  },
  {
   "cell_type": "code",
   "execution_count": 16,
   "metadata": {},
   "outputs": [
    {
     "data": {
      "text/html": [
       "<div>\n",
       "<style scoped>\n",
       "    .dataframe tbody tr th:only-of-type {\n",
       "        vertical-align: middle;\n",
       "    }\n",
       "\n",
       "    .dataframe tbody tr th {\n",
       "        vertical-align: top;\n",
       "    }\n",
       "\n",
       "    .dataframe thead th {\n",
       "        text-align: right;\n",
       "    }\n",
       "</style>\n",
       "<table border=\"1\" class=\"dataframe\">\n",
       "  <thead>\n",
       "    <tr style=\"text-align: right;\">\n",
       "      <th></th>\n",
       "      <th>keyword</th>\n",
       "      <th>shows</th>\n",
       "      <th>lemmas</th>\n",
       "    </tr>\n",
       "  </thead>\n",
       "  <tbody>\n",
       "    <tr>\n",
       "      <th>0</th>\n",
       "      <td>курс гривны к рублю</td>\n",
       "      <td>125076</td>\n",
       "      <td>курс   гривна   к   рубль \\n</td>\n",
       "    </tr>\n",
       "    <tr>\n",
       "      <th>1</th>\n",
       "      <td>доллары в рубли</td>\n",
       "      <td>114173</td>\n",
       "      <td>доллар   в   рубль \\n</td>\n",
       "    </tr>\n",
       "    <tr>\n",
       "      <th>2</th>\n",
       "      <td>100 долларов в рублях</td>\n",
       "      <td>97534</td>\n",
       "      <td>100   доллар   в   рубль \\n</td>\n",
       "    </tr>\n",
       "    <tr>\n",
       "      <th>3</th>\n",
       "      <td>курс рубля</td>\n",
       "      <td>53546</td>\n",
       "      <td>курс   рубль \\n</td>\n",
       "    </tr>\n",
       "  </tbody>\n",
       "</table>\n",
       "</div>"
      ],
      "text/plain": [
       "                 keyword   shows                        lemmas\n",
       "0    курс гривны к рублю  125076  курс   гривна   к   рубль \\n\n",
       "1        доллары в рубли  114173         доллар   в   рубль \\n\n",
       "2  100 долларов в рублях   97534   100   доллар   в   рубль \\n\n",
       "3             курс рубля   53546               курс   рубль \\n"
      ]
     },
     "execution_count": 16,
     "metadata": {},
     "output_type": "execute_result"
    }
   ],
   "source": [
    "data['lemmas'] = data.keyword.apply(write_lemmas)\n",
    "data"
   ]
  },
  {
   "cell_type": "code",
   "execution_count": null,
   "metadata": {},
   "outputs": [],
   "source": []
  }
 ],
 "metadata": {
  "kernelspec": {
   "display_name": "Python 3",
   "language": "python",
   "name": "python3"
  },
  "language_info": {
   "codemirror_mode": {
    "name": "ipython",
    "version": 3
   },
   "file_extension": ".py",
   "mimetype": "text/x-python",
   "name": "python",
   "nbconvert_exporter": "python",
   "pygments_lexer": "ipython3",
   "version": "3.7.6"
  }
 },
 "nbformat": 4,
 "nbformat_minor": 4
}
